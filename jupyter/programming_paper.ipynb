{
 "cells": [
  {
   "cell_type": "code",
   "execution_count": 2,
   "metadata": {},
   "outputs": [],
   "source": [
    "import pandas as pd\n",
    "import seaborn as sns\n",
    "import matplotlib.pyplot as plt\n",
    "from numpy import average\n",
    "import json"
   ]
  },
  {
   "cell_type": "code",
   "execution_count": 3,
   "metadata": {},
   "outputs": [],
   "source": [
    "def printplot_all(java8, graal, truffle, truffle_dispatch, keys):\n",
    "    plt.rcParams['figure.constrained_layout.use'] = False\n",
    "    fig = plt.figure(figsize=(20,5))\n",
    "    for (i, algo) in enumerate(keys):\n",
    "        ax = fig.add_subplot(1, 4, i + 1)\n",
    "        dico_perfs = {\n",
    "            'java8': java8[algo][10:],\n",
    "            'graal': graal[algo][10:],\n",
    "            'truffle': truffle[algo][10:],\n",
    "            'dispatch': truffle_dispatch[algo][10:],\n",
    "        }\n",
    "        from_dict = pd.DataFrame.from_dict(dico_perfs)\n",
    "\n",
    "        a=average(java8[algo][10:])\n",
    "        b=average(graal[algo][10:])\n",
    "        c=average(truffle[algo][10:])\n",
    "        d=average(truffle_dispatch[algo][10:])\n",
    "\n",
    "        print(algo)\n",
    "        print('oracle vs graal: x' + str(round(1.0/(b/a),2)))\n",
    "        print('graal vs truffle: x' + str(round(1.0/(c/b),2)))\n",
    "        print('graal vs truffle: x' + str(round(1.0/(d/b),2)))\n",
    "\n",
    "        sns.barplot(data=from_dict, ax=ax)\n",
    "        ax.set_title(algo)\n",
    "    fig.tight_layout()\n",
    "\n",
    "def printplot_oracle_graal(java8, graal, keys):\n",
    "    plt.rcParams['figure.constrained_layout.use'] = False\n",
    "    fig = plt.figure(figsize=(20,5))\n",
    "    for (i, algo) in enumerate(keys):\n",
    "        ax = fig.add_subplot(1, 4, i + 1)\n",
    "        dico_perfs = {\n",
    "            'java8': java8[algo][10:],\n",
    "            'graal': graal[algo][10:],\n",
    "\n",
    "        }\n",
    "        from_dict = pd.DataFrame.from_dict(dico_perfs)\n",
    "\n",
    "        a=average(java8[algo][10:])\n",
    "        b=average(graal[algo][10:])\n",
    "\n",
    "        print(algo)\n",
    "        print('x' + str(round(1.0/(b/a),2)))\n",
    "\n",
    "        sns.barplot(data=from_dict, ax=ax)\n",
    "        #plt.xticks(rotation=90)\n",
    "        ax.set_title(algo)\n",
    "    fig.tight_layout()"
   ]
  },
  {
   "cell_type": "code",
   "execution_count": 4,
   "metadata": {},
   "outputs": [],
   "source": [
    "minijava_java8 = {\n",
    "    'sort':\n",
    "        [12612, 12583, 11750, 11725, 11649, 11658, 11610, 11621, 11456, 11659, 11601, 11697, 11596, 11710, 11824,\n",
    "         11655, 11647, 11758, 11668, 11836, 11634, 11691, 11761, 11717, 11785, 11648, 11629, 11780, 11690, 11738,\n",
    "         11596, 11668, 11748, 11680, 11609, 11592, 11665, 11793, 11685, 11673, 11702, 11662, 11839, 11622, 11669,\n",
    "         11682, 11642, 11788, 11594, 11665],\n",
    "    'binarytree': [9917, 9150, 9029, 8750, 8999, 8781, 9269, 8773, 8814, 9281, 8778, 8802, 8756, 9264, 8665, 8669,\n",
    "                   8690, 8662, 8649, 8764, 8847, 8864, 8898, 8878, 8712, 8877, 8748, 8793, 8790, 9320, 8767, 8788,\n",
    "                   8804, 8813, 8825, 8860, 8802, 8824, 8849, 8814, 8798, 8838, 8826, 8822, 8802, 8805, 8821, 8846,\n",
    "                   8826, 8813],\n",
    "    'fannkuchredux':\n",
    "        [9040, 8902, 8392, 8431, 8506, 8381, 8399, 8418, 8420, 8523, 8655, 8611, 8645, 8628, 8571, 8495,\n",
    "         8551, 8545, 8628, 8555, 8558, 8690, 8614, 8595, 8638, 8610, 8589, 8598, 8552, 8568, 8580, 8599,\n",
    "         8662, 8630, 8570, 8630, 8472, 8646, 8612, 8513, 8605, 8638, 8520, 8580, 8597, 8590, 8710, 8704,\n",
    "         8664, 8683],\n",
    "    'fib': [14183, 13547, 13435, 13425, 13414, 13413, 13519, 13711, 13671, 13651, 13639, 13624, 13662, 13674, 13640,\n",
    "            13640, 13652, 13683, 13652, 13679, 13620, 13676, 13612, 13661, 13655, 13675, 13601, 13665, 13658, 13632,\n",
    "            13625, 13680, 13648, 13666, 13644, 13674, 13678, 13620, 13625, 13615, 13611, 13633, 13611, 13693, 13614,\n",
    "            13686, 13610, 13630, 13641, 13692]}\n",
    "\n",
    "minijava_graal = {\n",
    "    'sort': [11897, 9736, 9686, 9734, 9700, 9721, 9810, 9633, 9587, 9589, 9569, 9575, 9538, 9602, 9611, 9565, 9597,\n",
    "             9592, 9598, 9660, 9596, 9639, 9577, 9609, 9605, 9579, 9606, 9603, 9592, 9599, 9579, 9578, 9599, 9601,\n",
    "             9643, 9598, 9650, 9600, 9583, 9624, 9587, 9620, 9643, 9602, 9616, 9586, 9620, 9662, 9631, 9622],\n",
    "    'binarytree': [10217, 7501, 7338, 7468, 7250, 7253, 7256, 7263, 7255, 7257, 7160, 7225, 7157, 7137, 7125,\n",
    "                   7157, 7154, 7172, 7164, 7111, 7124, 7153, 7160, 7147, 7128, 7132, 7199, 7111, 7118, 7173,\n",
    "                   7170, 7131, 7137, 7162, 7213, 7131, 7142, 7176, 7100, 7146, 7140, 7157, 7108, 7156, 7171,\n",
    "                   7138, 7142, 7147, 7174, 7135],\n",
    "    'fannkuchredux': [8716, 6468, 6290, 6265, 6258, 6235, 6270, 6271, 6261, 6306, 6280, 6284, 6295, 6303, 6377,\n",
    "                      6334, 6326, 6341, 6370, 6357, 6334, 6336, 6347, 6357, 6383, 6368, 6346, 6354, 6384, 6361,\n",
    "                      6376, 6349, 6383, 6360, 6358, 6400, 6365, 6378, 6397, 6363, 6373, 6396, 6386, 6355, 6370,\n",
    "                      6353, 6354, 6368, 6368, 6377],\n",
    "    'fib': [13867, 11833, 11772, 11792, 11800, 11788, 11827, 11819, 11850, 11839, 11882, 11926, 11907, 11940,\n",
    "            11961, 11962, 11962, 11938, 11974, 11983, 11995, 11984, 11976, 11954, 11987, 11977, 12033, 12036,\n",
    "            11987, 11986, 12009, 12003, 11996, 11967, 11982, 11980, 11966, 12010, 11987, 11989, 11994, 12061,\n",
    "            12017, 12013, 11967, 12014, 11976, 12052, 12031, 12007]}\n",
    "\n",
    "logo_java8 = {\n",
    "    'fractal': [20146, 18836, 19033, 20243, 18654, 19450, 18467, 18601, 20039, 18472, 20217, 18397, 18425, 19032, 18336, 20128, 18299, 18347, 20054, 18359, 18456, 18694, 18702, 18385, 18571, 19017, 18374, 18454, 18324, 18574, 18412, 18305, 19885, 18497, 18473, 18461, 19973, 18415, 18362, 18331, 18546, 18700, 18580, 18503, 18323, 19576, 18408, 18391, 18669, 18389]\n",
    "}\n",
    "\n",
    "logo_graal = {\n",
    "    'fractal': [11743, 9491, 8985, 9853, 8899, 8962, 9389, 8833, 8706, 8750, 8763, 8834, 8620, 8681, 8745, 8652, 8514, 8686, 8708, 8631, 8573, 8592, 8609, 8653, 8643, 8541, 8702, 8645, 8582, 8664, 8723, 8592, 8624, 8603, 8698, 8741, 8751, 8657, 8554, 8669, 8682, 8614, 8531, 8609, 8642, 8582, 8525, 8628, 8684, 8583]\n",
    "}\n",
    "\n",
    "\n",
    "fsm_java8 = {\n",
    "    'machine': [7347, 7542, 7499, 7476, 7502, 7581, 7521, 7512, 7467, 7511, 7543, 7657, 7509, 7501, 7587, 7521, 7554, 7547, 7546, 7619, 7518, 7575, 7570, 7503, 7545, 7615, 7600, 7528, 7753, 7659, 7585, 7582, 7667, 7796, 7587, 7544, 7515, 7618, 7528, 7629, 7546, 7636, 7575, 7503, 7527, 7514, 7498, 7547, 7562, 7824]\n",
    "}\n",
    "\n",
    "fsm_graal = {\n",
    "    'machine': [7661, 5732, 5270, 5242, 5312, 5253, 5334, 5280, 5325, 5334, 5366, 5336, 5338, 5355, 5399, 5344, 5365, 5368, 5384, 5433, 5315, 5341, 5338, 5406, 5380, 5346, 5369, 5379, 5332, 5369, 5349, 5354, 5388, 5337, 5393, 5438, 5387, 5348, 5373, 5359, 5441, 5393, 5482, 5347, 5392, 5389, 5386, 5426, 5372, 5369]\n",
    "}"
   ]
  },
  {
   "cell_type": "markdown",
   "metadata": {},
   "source": [
    "# Minijava: Oracle vs Graal"
   ]
  },
  {
   "cell_type": "code",
   "execution_count": 5,
   "metadata": {},
   "outputs": [
    {
     "name": "stdout",
     "output_type": "stream",
     "text": [
      "fib\n",
      "x1.14\n",
      "sort\n",
      "x1.22\n",
      "binarytree\n",
      "x1.23\n",
      "fannkuchredux\n",
      "x1.35\n"
     ]
    },
    {
     "name": "stderr",
     "output_type": "stream",
     "text": [
      "/home/manuel/anaconda3/lib/python3.6/site-packages/scipy/stats/stats.py:1713: FutureWarning: Using a non-tuple sequence for multidimensional indexing is deprecated; use `arr[tuple(seq)]` instead of `arr[seq]`. In the future this will be interpreted as an array index, `arr[np.array(seq)]`, which will result either in an error or a different result.\n",
      "  return np.add.reduce(sorted[indexer] * weights, axis=axis) / sumval\n"
     ]
    },
    {
     "data": {
      "image/png": "[encoded data removed]",
      "text/plain": [
       "<Figure size 1440x360 with 4 Axes>"
      ]
     },
     "metadata": {
      "needs_background": "light"
     },
     "output_type": "display_data"
    }
   ],
   "source": [
    "printplot_oracle_graal(minijava_java8, minijava_graal, ['fib', 'sort', 'binarytree', 'fannkuchredux'])"
   ]
  },
  {
   "cell_type": "markdown",
   "metadata": {},
   "source": [
    "# Logo: Oracle vs Graal"
   ]
  },
  {
   "cell_type": "code",
   "execution_count": 6,
   "metadata": {},
   "outputs": [
    {
     "name": "stdout",
     "output_type": "stream",
     "text": [
      "fractal\n",
      "x2.16\n"
     ]
    },
    {
     "name": "stderr",
     "output_type": "stream",
     "text": [
      "/home/manuel/anaconda3/lib/python3.6/site-packages/scipy/stats/stats.py:1713: FutureWarning: Using a non-tuple sequence for multidimensional indexing is deprecated; use `arr[tuple(seq)]` instead of `arr[seq]`. In the future this will be interpreted as an array index, `arr[np.array(seq)]`, which will result either in an error or a different result.\n",
      "  return np.add.reduce(sorted[indexer] * weights, axis=axis) / sumval\n"
     ]
    },
    {
     "data": {
      "image/png": "[encoded data removed]",
      "text/plain": [
       "<Figure size 1440x360 with 1 Axes>"
      ]
     },
     "metadata": {
      "needs_background": "light"
     },
     "output_type": "display_data"
    }
   ],
   "source": [
    "printplot_oracle_graal(logo_java8, logo_graal, ['fractal'])"
   ]
  },
  {
   "cell_type": "markdown",
   "metadata": {},
   "source": [
    "# FSM: Oracle vs Graal"
   ]
  },
  {
   "cell_type": "code",
   "execution_count": 7,
   "metadata": {},
   "outputs": [
    {
     "name": "stdout",
     "output_type": "stream",
     "text": [
      "machine\n",
      "x1.41\n"
     ]
    },
    {
     "name": "stderr",
     "output_type": "stream",
     "text": [
      "/home/manuel/anaconda3/lib/python3.6/site-packages/scipy/stats/stats.py:1713: FutureWarning: Using a non-tuple sequence for multidimensional indexing is deprecated; use `arr[tuple(seq)]` instead of `arr[seq]`. In the future this will be interpreted as an array index, `arr[np.array(seq)]`, which will result either in an error or a different result.\n",
      "  return np.add.reduce(sorted[indexer] * weights, axis=axis) / sumval\n"
     ]
    },
    {
     "data": {
      "image/png": "[encoded data removed]",
      "text/plain": [
       "<Figure size 1440x360 with 1 Axes>"
      ]
     },
     "metadata": {
      "needs_background": "light"
     },
     "output_type": "display_data"
    }
   ],
   "source": [
    "printplot_oracle_graal(fsm_java8, fsm_graal, ['machine'])"
   ]
  },
  {
   "cell_type": "markdown",
   "metadata": {},
   "source": [
    "# FSM: Oracle vs Graal vs Truffle"
   ]
  },
  {
   "cell_type": "code",
   "execution_count": 9,
   "metadata": {},
   "outputs": [
    {
     "name": "stdout",
     "output_type": "stream",
     "text": [
      "machine\n",
      "oracle vs graal: x1.41\n",
      "graal vs truffle: x1.06\n",
      "graal vs truffle: x0.52\n"
     ]
    },
    {
     "name": "stderr",
     "output_type": "stream",
     "text": [
      "/home/manuel/anaconda3/lib/python3.6/site-packages/scipy/stats/stats.py:1713: FutureWarning: Using a non-tuple sequence for multidimensional indexing is deprecated; use `arr[tuple(seq)]` instead of `arr[seq]`. In the future this will be interpreted as an array index, `arr[np.array(seq)]`, which will result either in an error or a different result.\n",
      "  return np.add.reduce(sorted[indexer] * weights, axis=axis) / sumval\n"
     ]
    },
    {
     "data": {
      "image/png": "[encoded data removed]",
      "text/plain": [
       "<Figure size 1440x360 with 1 Axes>"
      ]
     },
     "metadata": {
      "needs_background": "light"
     },
     "output_type": "display_data"
    }
   ],
   "source": [
    "printplot_all(fsm_java8, fsm_graal, \n",
    "              { 'machine': [7116, 5577, 5071, 5102, 5039, 5060, 5031, 5098, 5027, 5047, 5044, 5058, 5080, 5074, 5049, 5064, 5091, 5112, 5093, 5082, 5090, 5079, 5080, 5092, 5094, 5087, 5113, 5090, 5101, 5087, 5080, 5111, 5087, 5092, 5096, 5086, 5094, 5109, 5104, 5093, 5103, 5096, 5102, 5098, 5110, 5088, 5123, 5102, 5105, 5090]}, \n",
    "              { 'machine': [12292, 10858, 10199, 10269, 10375, 10246, 10283, 10764, 10353, 10275, 10804, 10605, 10819, 10162, 10348, 10546, 10548, 10067, 10023, 10189, 10665, 10037, 10121, 10235, 10332, 10119, 10163, 10039, 10038, 9978, 10121, 10177, 10013, 10424, 10120, 9973, 10191, 10295, 10575, 10418, 10292, 10122, 10533, 10013, 10238, 10206, 10172, 10466, 10110, 10090]}, \n",
    "              ['machine'])"
   ]
  }
 ],
 "metadata": {
  "kernelspec": {
   "display_name": "Python 3",
   "language": "python",
   "name": "python3"
  },
  "language_info": {
   "codemirror_mode": {
    "name": "ipython",
    "version": 3
   },
   "file_extension": ".py",
   "mimetype": "text/x-python",
   "name": "python",
   "nbconvert_exporter": "python",
   "pygments_lexer": "ipython3",
   "version": "3.6.7"
  }
 },
 "nbformat": 4,
 "nbformat_minor": 2
}
